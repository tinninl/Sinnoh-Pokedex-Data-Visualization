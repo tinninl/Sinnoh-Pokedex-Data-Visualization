{
 "cells": [
  {
   "cell_type": "code",
   "execution_count": 1,
   "id": "d1cee208",
   "metadata": {},
   "outputs": [],
   "source": [
    "import pandas as pd"
   ]
  },
  {
   "cell_type": "markdown",
   "id": "f4ac7bf5",
   "metadata": {},
   "source": [
    "Load data "
   ]
  },
  {
   "cell_type": "code",
   "execution_count": null,
   "id": "fba4a8d4",
   "metadata": {},
   "outputs": [],
   "source": [
    "df = pd.read_json(\"data/sinnoh_pokedex.json\")\n",
    "print(\"\\n--- Preview ---\")\n",
    "print(df.head())"
   ]
  },
  {
   "cell_type": "markdown",
   "id": "199f024e",
   "metadata": {},
   "source": [
    "Display top ten pokemon with the highest stats"
   ]
  },
  {
   "cell_type": "code",
   "execution_count": null,
   "id": "6a2091d4",
   "metadata": {},
   "outputs": [],
   "source": [
    "df[\"Total\"] = df.iloc[:, 4:10].sum(axis=1)\n",
    "top10 = df.sort_values(by=\"Total\", ascending=False).head(10)\n",
    "print(\"\\n Top 10 Pokémon by Total Stats \")\n",
    "print(top10[[\"No\", \"Name\", \"Total\"]].to_string(index=False))"
   ]
  },
  {
   "cell_type": "markdown",
   "id": "07953cc3",
   "metadata": {},
   "source": [
    "Display all fire type pokemon"
   ]
  },
  {
   "cell_type": "code",
   "execution_count": null,
   "id": "7e7056d3",
   "metadata": {},
   "outputs": [
    {
     "name": "stdout",
     "output_type": "stream",
     "text": [
      "Number of dual type pokemon: 76\n",
      "All fire type pokemon \n",
      "Number of Fire Pokémon: 5\n",
      " No      Name\n",
      "  4  chimchar\n",
      "  5  monferno\n",
      "  6 infernape\n",
      " 90    ponyta\n",
      " 91  rapidash\n"
     ]
    }
   ],
   "source": [
    "fire_pokemon = df[(df.iloc[:, 2] == \"fire\") | (df.iloc[:, 3] == \"fire\")]\n",
    "fire_count = len(fire_pokemon)\n",
    "\n",
    "print(\"All fire type pokemon \")\n",
    "print(f\"Number of Fire Pokémon: {fire_count}\")\n",
    "print(fire_pokemon.iloc[:, [0, 1]].to_string(index=False))\n",
    "\n",
    "\n"
   ]
  },
  {
   "cell_type": "code",
   "execution_count": null,
   "id": "5036bcf9",
   "metadata": {},
   "outputs": [],
   "source": [
    "# Add Total column\n",
    "df[\"Total\"] = df.iloc[:, 4:10].sum(axis=1)\n",
    "\n",
    "# Stats columns (Hp to Speed) plus Total\n",
    "stat_cols = list(range(4, 10)) + [df.columns.get_loc(\"Total\")]\n",
    "\n",
    "# Prepare an empty DataFrame for long format\n",
    "top10_long = pd.DataFrame(columns=[\"No\", \"Name\", \"Stat\", \"Value\"])\n",
    "\n",
    "for i in stat_cols:\n",
    "    stat_name = df.columns[i]\n",
    "    top10 = df.iloc[:, [0, 1, i]].sort_values(by=df.columns[i], ascending=False).head(10)\n",
    "    # Rename the stat column to 'Value' and add 'Stat' column\n",
    "    top10 = top10.rename(columns={df.columns[i]: \"Value\"})\n",
    "    top10[\"Stat\"] = stat_name\n",
    "    # Reorder columns\n",
    "    top10 = top10[[\"No\", \"Name\", \"Stat\", \"Value\"]]\n",
    "    top10_long = pd.concat([top10_long, top10], ignore_index=True)\n",
    "\n",
    "# Save to CSV\n",
    "top10_long.to_csv(\"data/_all_stats_long.csv\", index=False)"
   ]
  },
  {
   "cell_type": "code",
   "execution_count": 26,
   "id": "236f675f",
   "metadata": {},
   "outputs": [
    {
     "name": "stdout",
     "output_type": "stream",
     "text": [
      "387\n"
     ]
    }
   ],
   "source": [
    "species_url = \"https://pokeapi.co/api/v2/pokemon-species/387/\"\n",
    "species_id = species_url.rstrip(\"/\").split(\"/\")[-1]   \n",
    "print(species_id)"
   ]
  }
 ],
 "metadata": {
  "kernelspec": {
   "display_name": ".venv",
   "language": "python",
   "name": "python3"
  },
  "language_info": {
   "codemirror_mode": {
    "name": "ipython",
    "version": 3
   },
   "file_extension": ".py",
   "mimetype": "text/x-python",
   "name": "python",
   "nbconvert_exporter": "python",
   "pygments_lexer": "ipython3",
   "version": "3.13.3"
  }
 },
 "nbformat": 4,
 "nbformat_minor": 5
}

{
 "cells": [
  {
   "cell_type": "code",
   "execution_count": 20,
   "id": "53725d80",
   "metadata": {},
   "outputs": [],
   "source": [
    "import os, json\n",
    "import requests\n",
    "import pandas as pd\n",
    "import time"
   ]
  },
  {
   "cell_type": "code",
   "execution_count": 27,
   "id": "2c02d48a",
   "metadata": {},
   "outputs": [],
   "source": [
    "pokedex = []\n",
    "pokedex_file = \"../data/original_sinnoh_pokedex.json\"\n",
    "with open(pokedex_file, \"w\", encoding=\"utf-8\") as f:\n",
    "    json.dump(pokedex, f, indent=2)"
   ]
  }
 ],
 "metadata": {
  "kernelspec": {
   "display_name": ".venv",
   "language": "python",
   "name": "python3"
  },
  "language_info": {
   "codemirror_mode": {
    "name": "ipython",
    "version": 3
   },
   "file_extension": ".py",
   "mimetype": "text/x-python",
   "name": "python",
   "nbconvert_exporter": "python",
   "pygments_lexer": "ipython3",
   "version": "3.13.3"
  }
 },
 "nbformat": 4,
 "nbformat_minor": 5
}

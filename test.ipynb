{
 "cells": [
  {
   "cell_type": "code",
   "execution_count": null,
   "id": "9aab02bf",
   "metadata": {},
   "outputs": [],
   "source": [
    "species_url = \"https://pokeapi.co/api/v2/pokemon-species/387/\"\n",
    "species_id = species_url.rstrip(\"/\").split(\"/\")[-1]   \n",
    "print(species_id)"
   ]
  }
 ],
 "metadata": {
  "kernelspec": {
   "display_name": ".venv",
   "language": "python",
   "name": "python3"
  },
  "language_info": {
   "name": "python",
   "version": "3.13.3"
  }
 },
 "nbformat": 4,
 "nbformat_minor": 5
}
